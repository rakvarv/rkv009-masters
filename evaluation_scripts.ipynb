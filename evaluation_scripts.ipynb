{
 "cells": [
  {
   "cell_type": "code",
   "execution_count": 1,
   "metadata": {},
   "outputs": [],
   "source": [
    "import pandas as pd \n",
    "import json"
   ]
  },
  {
   "cell_type": "code",
   "execution_count": 97,
   "metadata": {},
   "outputs": [
    {
     "name": "stdout",
     "output_type": "stream",
     "text": [
      "Comparing: {'from': 'Norge', 'relation': 'contains', 'target': 'Oslo'} {'from': 'Norge', 'relation': 'contains', 'target': 'Sogndal'}\n",
      "No match found.\n",
      "Accuracy: 0.0\n"
     ]
    }
   ],
   "source": [
    "def calculate_relationship_accuracy(actual_relationships, predicted_relationships):\n",
    "    # Initialize variables to count correct matches and partial matches\n",
    "    correct_matches = 0\n",
    "    partial_matches = 0\n",
    "    \n",
    "    # Check for correct matches and partial matches\n",
    "    for a_rel in actual_relationships:\n",
    "        for p_rel in predicted_relationships:\n",
    "            print(\"Comparing:\", a_rel, p_rel)\n",
    "            if (a_rel['from'] == p_rel['from'] and\n",
    "                a_rel['relation'] == p_rel['relation'] and\n",
    "                a_rel['target'] == p_rel['target']):\n",
    "                correct_matches += 1\n",
    "                print(\"Correct match found.\")\n",
    "            elif (a_rel['from'] == p_rel['target'] and\n",
    "                  a_rel['relation'] == p_rel['relation'] and\n",
    "                  a_rel['target'] == p_rel['from']):\n",
    "                partial_matches += 1\n",
    "                print(\"Partial match found.\")\n",
    "            else:\n",
    "                print(\"No match found.\")\n",
    "    \n",
    "    # Calculate accuracy\n",
    "    total_relationships = len(actual_relationships)\n",
    "    if total_relationships > 0:\n",
    "        accuracy = (correct_matches + partial_matches) / total_relationships\n",
    "    else:\n",
    "        accuracy = 0\n",
    "    \n",
    "    return accuracy\n",
    "\n",
    "# Actual and predicted relationships (identical)\n",
    "actual_relationships = [{\"from\": \"Norge\", \"relation\": \"contains\", \"target\": \"Oslo\"}]\n",
    "predicted_relationships = [{\"from\": \"Norge\", \"relation\": \"contains\", \"target\": \"Sogndal\"}]\n",
    "\n",
    "# Calculate accuracy\n",
    "accuracy = calculate_relationship_accuracy(actual_relationships, predicted_relationships)\n",
    "print(\"Accuracy:\", accuracy)\n"
   ]
  },
  {
   "cell_type": "code",
   "execution_count": 11,
   "metadata": {},
   "outputs": [
    {
     "name": "stdout",
     "output_type": "stream",
     "text": [
      "Accuracy: 1.0\n"
     ]
    }
   ],
   "source": [
    "def calculate_relationship_accuracy(actual_relationships, predicted_relationships):\n",
    "    # Initialize variables to count correct matches and partial matches\n",
    "    correct_matches = 0\n",
    "    partial_matches = 0\n",
    "    \n",
    "    # Check for correct matches and partial matches\n",
    "    for a_rel in actual_relationships:\n",
    "        match_found = False  # Track whether a match is found for the current actual relationship\n",
    "        for p_rel in predicted_relationships:\n",
    "            if (a_rel['from'] == p_rel['from'] and\n",
    "                a_rel['relation'] == p_rel['relation'] and\n",
    "                a_rel['target'] == p_rel['target']):\n",
    "                correct_matches += 1\n",
    "                match_found = True\n",
    "                break\n",
    "            elif (a_rel['from'] == p_rel['target'] and\n",
    "                  a_rel['relation'] == p_rel['relation'] and\n",
    "                  a_rel['target'] == p_rel['from']):\n",
    "                partial_matches += 0.5  # Assign a weight of 0.5 for each partial match\n",
    "                match_found = True\n",
    "                break  # Exit the loop once a partial match is found\n",
    "        \n",
    "        # If no match is found for the current actual relationship, count it as a partial match\n",
    "        if not match_found:\n",
    "            partial_matches += 0.5\n",
    "    \n",
    "    # Calculate accuracy\n",
    "    total_relationships = len(actual_relationships)\n",
    "    if total_relationships > 0:\n",
    "        accuracy = (correct_matches + partial_matches) / total_relationships\n",
    "    else:\n",
    "        accuracy = 0\n",
    "    \n",
    "    return accuracy\n",
    "\n",
    "\n",
    "# Actual and predicted relationships (identical)\n",
    "actual_relationships = [{\"from\": \"Norge\", \"relation\": \"contains\", \"target\": \"Sogndal\"}]\n",
    "predicted_relationships = [{\"from\": \"Norge\", \"relation\": \"contains\", \"target\": \"Sogndal\"}]\n",
    "\n",
    "# Calculate accuracy\n",
    "accuracy = calculate_relationship_accuracy(actual_relationships, predicted_relationships)\n",
    "print(\"Accuracy:\", accuracy)"
   ]
  },
  {
   "cell_type": "code",
   "execution_count": 71,
   "metadata": {},
   "outputs": [
    {
     "name": "stdout",
     "output_type": "stream",
     "text": [
      "Accuracy: 0.5\n"
     ]
    }
   ],
   "source": [
    "def calculate_relationship_accuracy(actual_relationships, predicted_relationships):\n",
    "    # Initialize variables to count correct matches, partial matches, and incorrect matches\n",
    "    correct_matches = 0\n",
    "    partial_matches = 0\n",
    "    \n",
    "    # Convert tuples to dictionaries for easier comparison\n",
    "    actual_set = {(rel['from'], rel['relation'], rel['target']) if isinstance(rel, dict) else rel for rel in actual_relationships}\n",
    "    predicted_set = {(rel['from'], rel['relation'], rel['target']) if isinstance(rel, dict) else rel for rel in predicted_relationships}\n",
    "    \n",
    "    # Check for correct matches, partial matches, and incorrect matches\n",
    "    for rel in actual_set:\n",
    "        if rel in predicted_set:\n",
    "            correct_matches += 1\n",
    "        else:\n",
    "            # Check for partial matches\n",
    "            partial_found = False\n",
    "            for pred_rel in predicted_set:\n",
    "                if ((rel[0] == pred_rel[0] and rel[1] == pred_rel[1] and rel[2] != pred_rel[2]) or\n",
    "                    (rel[0] != pred_rel[0] and rel[1] == pred_rel[1] and rel[2] == pred_rel[2])):\n",
    "                    partial_matches += 0.5\n",
    "                    partial_found = True\n",
    "                    break\n",
    "            if not partial_found:\n",
    "                # If no partial match found, count it as incorrect\n",
    "                partial_matches += 0\n",
    "    \n",
    "    # Calculate accuracy\n",
    "    total_relationships = len(actual_relationships)\n",
    "    if total_relationships > 0:\n",
    "        accuracy = (correct_matches + partial_matches) / total_relationships\n",
    "    else:\n",
    "        accuracy = 0\n",
    "    \n",
    "    return accuracy\n",
    "\n",
    "# Actual and predicted relationships (identical)\n",
    "actual_relationships = [{\"from\": \"Norge\", \"relation\": \"contains\", \"target\": \"Sgondal\"}]\n",
    "predicted_relationships = [{\"from\": \"Norge\", \"relation\": \"contains\", \"target\": \"Sogndal\"}]\n",
    "\n",
    "# Calculate accuracy\n",
    "accuracy = calculate_relationship_accuracy(actual_relationships, predicted_relationships)\n",
    "print(\"Accuracy:\", accuracy)\n"
   ]
  },
  {
   "cell_type": "code",
   "execution_count": 139,
   "metadata": {},
   "outputs": [],
   "source": [
    "def calculate_accuracy(row):\n",
    "    predicted = json.loads(row['predictedgpt3'])\n",
    "    actual = json.loads(row['actual'])\n",
    "\n",
    "    # Convert relationships to lowercase keys for consistency\n",
    "    def convert_relationships(obj):\n",
    "        return [{k.lower(): v for k, v in rel.items()} for rel in obj.get('relationships', [])]\n",
    "\n",
    "    predicted['relationships'] = convert_relationships(predicted)\n",
    "    actual['relationships'] = convert_relationships(actual)\n",
    "\n",
    "    # Initialize accuracy and accuracy components\n",
    "    location_accuracy = 0\n",
    "    relationship_accuracy = 0\n",
    "\n",
    "    # Compare number of locations\n",
    "    predicted_locations = len(predicted.get('locations', []))\n",
    "    actual_locations = len(actual.get('locations', []))\n",
    "    if predicted_locations == actual_locations:\n",
    "        location_accuracy = 1\n",
    "    elif predicted_locations > actual_locations:\n",
    "        location_accuracy = actual_locations / predicted_locations\n",
    "    else:\n",
    "        location_accuracy = predicted_locations / actual_locations\n",
    "\n",
    "    # Extract predicted and actual relationships as dictionaries\n",
    "    def tuple_to_dict(rel_tuple):\n",
    "        if len(rel_tuple) == 3:\n",
    "            return {'from': rel_tuple[0], 'relation': rel_tuple[1], 'target': rel_tuple[2]}\n",
    "        else:\n",
    "            return {'from': None, 'relation': None, 'target': None}\n",
    "\n",
    "\n",
    "    predicted_relationships = [tuple_to_dict(rel) for rel in predicted.get('relationships', [])]\n",
    "    actual_relationships = [tuple_to_dict(rel) for rel in actual.get('relationships', [])]\n",
    "\n",
    "    # Check if predicted relationships is empty and convert it to the JSON format\n",
    "    if not predicted_relationships:\n",
    "        predicted_relationships = []\n",
    "    # Check if actual relationships is empty and convert it to the JSON format\n",
    "    if not actual_relationships:\n",
    "        actual_relationships = []\n",
    "\n",
    "    # Calculate relationship accuracy using the provided function\n",
    "    relationship_accuracy = calculate_relationship_accuracy(actual_relationships, predicted_relationships)\n",
    "\n",
    "    # Combine location accuracy and relationship accuracy\n",
    "    overall_accuracy = (location_accuracy + relationship_accuracy) / 2\n",
    "\n",
    "    print(f\"Location Accuracy For Current Row: {location_accuracy}\")\n",
    "    print(f\"Relationship Accuracy For Current Row: {relationship_accuracy}\")\n",
    "    print(f\"Accuracy For Current Row: {overall_accuracy}\")\n",
    "    print(\"---------------------------------------------------\")\n",
    "\n",
    "    return overall_accuracy\n"
   ]
  },
  {
   "cell_type": "code",
   "execution_count": 140,
   "metadata": {},
   "outputs": [],
   "source": [
    "def evaluate_accuracy(data):\n",
    "    total_accuracy = 0\n",
    "    total_locations = 0\n",
    "    total_correct_locations = 0\n",
    "    \n",
    "    for index, row in data.iterrows():\n",
    "        # Calculate accuracy for each row\n",
    "        accuracy = calculate_accuracy(row)\n",
    "        total_accuracy += accuracy\n",
    "        \n",
    "        # Extract actual and predicted locations\n",
    "        actual_locations = len(json.loads(row['actual']).get('locations', []))\n",
    "        predicted_locations = len(json.loads(row['predictedgpt3']).get('locations', []))\n",
    "        \n",
    "        # Accumulate total locations and total correct locations\n",
    "        total_locations += actual_locations\n",
    "        total_correct_locations += min(predicted_locations, actual_locations)\n",
    "    \n",
    "    # Calculate overall accuracy\n",
    "    overall_accuracy = total_accuracy / len(data)\n",
    "    \n",
    "    # Calculate overall location accuracy\n",
    "    overall_location_accuracy = total_correct_locations / total_locations\n",
    "    \n",
    "    return overall_accuracy, overall_location_accuracy\n"
   ]
  },
  {
   "cell_type": "code",
   "execution_count": 4,
   "metadata": {},
   "outputs": [],
   "source": [
    "def convert_floats_to_strings(dataframe):\n",
    "    for col in dataframe.columns:\n",
    "        for i, value in enumerate(dataframe[col]):\n",
    "            if isinstance(value, float):\n",
    "                dataframe.at[i, col] = str(value)\n",
    "    return dataframe"
   ]
  },
  {
   "cell_type": "code",
   "execution_count": 9,
   "metadata": {},
   "outputs": [],
   "source": [
    "def fix_json_string(json_str):\n",
    "    return json_str.replace('\"\"', '\"')"
   ]
  },
  {
   "cell_type": "code",
   "execution_count": 141,
   "metadata": {},
   "outputs": [],
   "source": [
    "df = pd.read_csv('test_processedgpt3.csv')"
   ]
  },
  {
   "cell_type": "code",
   "execution_count": 142,
   "metadata": {},
   "outputs": [
    {
     "name": "stderr",
     "output_type": "stream",
     "text": [
      "C:\\Users\\rakva\\AppData\\Local\\Temp\\ipykernel_2280\\3204182657.py:5: FutureWarning: Setting an item of incompatible dtype is deprecated and will raise in a future error of pandas. Value 'nan' has dtype incompatible with float64, please explicitly cast to a compatible dtype first.\n",
      "  dataframe.at[i, col] = str(value)\n"
     ]
    }
   ],
   "source": [
    "# Apply the function to the DataFrame\n",
    "df = convert_floats_to_strings(df)"
   ]
  },
  {
   "cell_type": "code",
   "execution_count": 143,
   "metadata": {},
   "outputs": [
    {
     "data": {
      "text/html": [
       "<div>\n",
       "<style scoped>\n",
       "    .dataframe tbody tr th:only-of-type {\n",
       "        vertical-align: middle;\n",
       "    }\n",
       "\n",
       "    .dataframe tbody tr th {\n",
       "        vertical-align: top;\n",
       "    }\n",
       "\n",
       "    .dataframe thead th {\n",
       "        text-align: right;\n",
       "    }\n",
       "</style>\n",
       "<table border=\"1\" class=\"dataframe\">\n",
       "  <thead>\n",
       "    <tr style=\"text-align: right;\">\n",
       "      <th></th>\n",
       "      <th>actual</th>\n",
       "      <th>predictedgpt3</th>\n",
       "    </tr>\n",
       "  </thead>\n",
       "  <tbody>\n",
       "    <tr>\n",
       "      <th>0</th>\n",
       "      <td>{\"locations\": [{\"name\": \"Norge\", \"type\": \"Loca...</td>\n",
       "      <td>{\"locations\": [{\"name\": \"Norge\", \"type\": \"Loca...</td>\n",
       "    </tr>\n",
       "    <tr>\n",
       "      <th>1</th>\n",
       "      <td>{\"locations\": [{\"name\": \"Voss\", \"type\": \"Locat...</td>\n",
       "      <td>{\"locations\": [{\"name\": \"Voss\", \"type\": \"Locat...</td>\n",
       "    </tr>\n",
       "    <tr>\n",
       "      <th>2</th>\n",
       "      <td>{\"locations\": [{\"name\": \"Nærøydalen\", \"type\": ...</td>\n",
       "      <td>{\"locations\": [{\"name\": \"Vestland\", \"type\": \"L...</td>\n",
       "    </tr>\n",
       "    <tr>\n",
       "      <th>3</th>\n",
       "      <td>{\"locations\": [{\"name\": \"Lærdalstunnelen\", \"ty...</td>\n",
       "      <td>{\"locations\": [{\"name\": \"SognOgFjordane\", \"typ...</td>\n",
       "    </tr>\n",
       "    <tr>\n",
       "      <th>4</th>\n",
       "      <td>{\"locations\": [{\"name\": \"SognOgFjordane\", \"typ...</td>\n",
       "      <td>{\"locations\": [{\"name\": \"Pensjonistforbundet\",...</td>\n",
       "    </tr>\n",
       "    <tr>\n",
       "      <th>...</th>\n",
       "      <td>...</td>\n",
       "      <td>...</td>\n",
       "    </tr>\n",
       "    <tr>\n",
       "      <th>140</th>\n",
       "      <td>{\"locations\": [{\"name\": \"Gaupne\", \"type\": \"Loc...</td>\n",
       "      <td>{\"locations\": [{\"name\": \"Gaupne\", \"type\": \"Loc...</td>\n",
       "    </tr>\n",
       "    <tr>\n",
       "      <th>141</th>\n",
       "      <td>{\"locations\": [{\"name\": \"Lavik\", \"type\": \"Loca...</td>\n",
       "      <td>{\"locations\": [{\"name\": \"Hellebøstranda\", \"typ...</td>\n",
       "    </tr>\n",
       "    <tr>\n",
       "      <th>142</th>\n",
       "      <td>{\"locations\": [{\"name\": \"Haukelifjell\", \"type\"...</td>\n",
       "      <td>{\"locations\": [{\"name\": \"Vind\", \"type\": \"Locat...</td>\n",
       "    </tr>\n",
       "    <tr>\n",
       "      <th>143</th>\n",
       "      <td>{\"locations\": [{\"name\": \"MichaelKrohnGate\", \"t...</td>\n",
       "      <td>{\"locations\": [{\"name\": \"Mandag\", \"type\": \"Loc...</td>\n",
       "    </tr>\n",
       "    <tr>\n",
       "      <th>144</th>\n",
       "      <td>{\"locations\": [{\"name\": \"Knarvik\", \"type\": \"Lo...</td>\n",
       "      <td>{\"locations\": [{\"name\": \"Spesialeininga\", \"typ...</td>\n",
       "    </tr>\n",
       "  </tbody>\n",
       "</table>\n",
       "<p>145 rows × 2 columns</p>\n",
       "</div>"
      ],
      "text/plain": [
       "                                                actual  \\\n",
       "0    {\"locations\": [{\"name\": \"Norge\", \"type\": \"Loca...   \n",
       "1    {\"locations\": [{\"name\": \"Voss\", \"type\": \"Locat...   \n",
       "2    {\"locations\": [{\"name\": \"Nærøydalen\", \"type\": ...   \n",
       "3    {\"locations\": [{\"name\": \"Lærdalstunnelen\", \"ty...   \n",
       "4    {\"locations\": [{\"name\": \"SognOgFjordane\", \"typ...   \n",
       "..                                                 ...   \n",
       "140  {\"locations\": [{\"name\": \"Gaupne\", \"type\": \"Loc...   \n",
       "141  {\"locations\": [{\"name\": \"Lavik\", \"type\": \"Loca...   \n",
       "142  {\"locations\": [{\"name\": \"Haukelifjell\", \"type\"...   \n",
       "143  {\"locations\": [{\"name\": \"MichaelKrohnGate\", \"t...   \n",
       "144  {\"locations\": [{\"name\": \"Knarvik\", \"type\": \"Lo...   \n",
       "\n",
       "                                         predictedgpt3  \n",
       "0    {\"locations\": [{\"name\": \"Norge\", \"type\": \"Loca...  \n",
       "1    {\"locations\": [{\"name\": \"Voss\", \"type\": \"Locat...  \n",
       "2    {\"locations\": [{\"name\": \"Vestland\", \"type\": \"L...  \n",
       "3    {\"locations\": [{\"name\": \"SognOgFjordane\", \"typ...  \n",
       "4    {\"locations\": [{\"name\": \"Pensjonistforbundet\",...  \n",
       "..                                                 ...  \n",
       "140  {\"locations\": [{\"name\": \"Gaupne\", \"type\": \"Loc...  \n",
       "141  {\"locations\": [{\"name\": \"Hellebøstranda\", \"typ...  \n",
       "142  {\"locations\": [{\"name\": \"Vind\", \"type\": \"Locat...  \n",
       "143  {\"locations\": [{\"name\": \"Mandag\", \"type\": \"Loc...  \n",
       "144  {\"locations\": [{\"name\": \"Spesialeininga\", \"typ...  \n",
       "\n",
       "[145 rows x 2 columns]"
      ]
     },
     "execution_count": 143,
     "metadata": {},
     "output_type": "execute_result"
    }
   ],
   "source": [
    "df[[\"actual\", \"predictedgpt3\"]]"
   ]
  },
  {
   "cell_type": "code",
   "execution_count": 144,
   "metadata": {
    "scrolled": false
   },
   "outputs": [
    {
     "ename": "KeyError",
     "evalue": "0",
     "output_type": "error",
     "traceback": [
      "\u001b[1;31m---------------------------------------------------------------------------\u001b[0m",
      "\u001b[1;31mKeyError\u001b[0m                                  Traceback (most recent call last)",
      "\u001b[1;32m~\\AppData\\Local\\Temp\\ipykernel_2280\\776854611.py\u001b[0m in \u001b[0;36m<module>\u001b[1;34m\u001b[0m\n\u001b[1;32m----> 1\u001b[1;33m \u001b[0moverall_accuracy\u001b[0m \u001b[1;33m=\u001b[0m \u001b[0mevaluate_accuracy\u001b[0m\u001b[1;33m(\u001b[0m\u001b[0mdf\u001b[0m\u001b[1;33m)\u001b[0m\u001b[1;33m\u001b[0m\u001b[1;33m\u001b[0m\u001b[0m\n\u001b[0m",
      "\u001b[1;32m~\\AppData\\Local\\Temp\\ipykernel_2280\\3881646109.py\u001b[0m in \u001b[0;36mevaluate_accuracy\u001b[1;34m(data)\u001b[0m\n\u001b[0;32m      6\u001b[0m     \u001b[1;32mfor\u001b[0m \u001b[0mindex\u001b[0m\u001b[1;33m,\u001b[0m \u001b[0mrow\u001b[0m \u001b[1;32min\u001b[0m \u001b[0mdata\u001b[0m\u001b[1;33m.\u001b[0m\u001b[0miterrows\u001b[0m\u001b[1;33m(\u001b[0m\u001b[1;33m)\u001b[0m\u001b[1;33m:\u001b[0m\u001b[1;33m\u001b[0m\u001b[1;33m\u001b[0m\u001b[0m\n\u001b[0;32m      7\u001b[0m         \u001b[1;31m# Calculate accuracy for each row\u001b[0m\u001b[1;33m\u001b[0m\u001b[1;33m\u001b[0m\u001b[0m\n\u001b[1;32m----> 8\u001b[1;33m         \u001b[0maccuracy\u001b[0m \u001b[1;33m=\u001b[0m \u001b[0mcalculate_accuracy\u001b[0m\u001b[1;33m(\u001b[0m\u001b[0mrow\u001b[0m\u001b[1;33m)\u001b[0m\u001b[1;33m\u001b[0m\u001b[1;33m\u001b[0m\u001b[0m\n\u001b[0m\u001b[0;32m      9\u001b[0m         \u001b[0mtotal_accuracy\u001b[0m \u001b[1;33m+=\u001b[0m \u001b[0maccuracy\u001b[0m\u001b[1;33m\u001b[0m\u001b[1;33m\u001b[0m\u001b[0m\n\u001b[0;32m     10\u001b[0m \u001b[1;33m\u001b[0m\u001b[0m\n",
      "\u001b[1;32m~\\AppData\\Local\\Temp\\ipykernel_2280\\2484065296.py\u001b[0m in \u001b[0;36mcalculate_accuracy\u001b[1;34m(row)\u001b[0m\n\u001b[0;32m     32\u001b[0m \u001b[1;33m\u001b[0m\u001b[0m\n\u001b[0;32m     33\u001b[0m \u001b[1;33m\u001b[0m\u001b[0m\n\u001b[1;32m---> 34\u001b[1;33m     \u001b[0mpredicted_relationships\u001b[0m \u001b[1;33m=\u001b[0m \u001b[1;33m[\u001b[0m\u001b[0mtuple_to_dict\u001b[0m\u001b[1;33m(\u001b[0m\u001b[0mrel\u001b[0m\u001b[1;33m)\u001b[0m \u001b[1;32mfor\u001b[0m \u001b[0mrel\u001b[0m \u001b[1;32min\u001b[0m \u001b[0mpredicted\u001b[0m\u001b[1;33m.\u001b[0m\u001b[0mget\u001b[0m\u001b[1;33m(\u001b[0m\u001b[1;34m'relationships'\u001b[0m\u001b[1;33m,\u001b[0m \u001b[1;33m[\u001b[0m\u001b[1;33m]\u001b[0m\u001b[1;33m)\u001b[0m\u001b[1;33m]\u001b[0m\u001b[1;33m\u001b[0m\u001b[1;33m\u001b[0m\u001b[0m\n\u001b[0m\u001b[0;32m     35\u001b[0m     \u001b[0mactual_relationships\u001b[0m \u001b[1;33m=\u001b[0m \u001b[1;33m[\u001b[0m\u001b[0mtuple_to_dict\u001b[0m\u001b[1;33m(\u001b[0m\u001b[0mrel\u001b[0m\u001b[1;33m)\u001b[0m \u001b[1;32mfor\u001b[0m \u001b[0mrel\u001b[0m \u001b[1;32min\u001b[0m \u001b[0mactual\u001b[0m\u001b[1;33m.\u001b[0m\u001b[0mget\u001b[0m\u001b[1;33m(\u001b[0m\u001b[1;34m'relationships'\u001b[0m\u001b[1;33m,\u001b[0m \u001b[1;33m[\u001b[0m\u001b[1;33m]\u001b[0m\u001b[1;33m)\u001b[0m\u001b[1;33m]\u001b[0m\u001b[1;33m\u001b[0m\u001b[1;33m\u001b[0m\u001b[0m\n\u001b[0;32m     36\u001b[0m \u001b[1;33m\u001b[0m\u001b[0m\n",
      "\u001b[1;32m~\\AppData\\Local\\Temp\\ipykernel_2280\\2484065296.py\u001b[0m in \u001b[0;36m<listcomp>\u001b[1;34m(.0)\u001b[0m\n\u001b[0;32m     32\u001b[0m \u001b[1;33m\u001b[0m\u001b[0m\n\u001b[0;32m     33\u001b[0m \u001b[1;33m\u001b[0m\u001b[0m\n\u001b[1;32m---> 34\u001b[1;33m     \u001b[0mpredicted_relationships\u001b[0m \u001b[1;33m=\u001b[0m \u001b[1;33m[\u001b[0m\u001b[0mtuple_to_dict\u001b[0m\u001b[1;33m(\u001b[0m\u001b[0mrel\u001b[0m\u001b[1;33m)\u001b[0m \u001b[1;32mfor\u001b[0m \u001b[0mrel\u001b[0m \u001b[1;32min\u001b[0m \u001b[0mpredicted\u001b[0m\u001b[1;33m.\u001b[0m\u001b[0mget\u001b[0m\u001b[1;33m(\u001b[0m\u001b[1;34m'relationships'\u001b[0m\u001b[1;33m,\u001b[0m \u001b[1;33m[\u001b[0m\u001b[1;33m]\u001b[0m\u001b[1;33m)\u001b[0m\u001b[1;33m]\u001b[0m\u001b[1;33m\u001b[0m\u001b[1;33m\u001b[0m\u001b[0m\n\u001b[0m\u001b[0;32m     35\u001b[0m     \u001b[0mactual_relationships\u001b[0m \u001b[1;33m=\u001b[0m \u001b[1;33m[\u001b[0m\u001b[0mtuple_to_dict\u001b[0m\u001b[1;33m(\u001b[0m\u001b[0mrel\u001b[0m\u001b[1;33m)\u001b[0m \u001b[1;32mfor\u001b[0m \u001b[0mrel\u001b[0m \u001b[1;32min\u001b[0m \u001b[0mactual\u001b[0m\u001b[1;33m.\u001b[0m\u001b[0mget\u001b[0m\u001b[1;33m(\u001b[0m\u001b[1;34m'relationships'\u001b[0m\u001b[1;33m,\u001b[0m \u001b[1;33m[\u001b[0m\u001b[1;33m]\u001b[0m\u001b[1;33m)\u001b[0m\u001b[1;33m]\u001b[0m\u001b[1;33m\u001b[0m\u001b[1;33m\u001b[0m\u001b[0m\n\u001b[0;32m     36\u001b[0m \u001b[1;33m\u001b[0m\u001b[0m\n",
      "\u001b[1;32m~\\AppData\\Local\\Temp\\ipykernel_2280\\2484065296.py\u001b[0m in \u001b[0;36mtuple_to_dict\u001b[1;34m(rel_tuple)\u001b[0m\n\u001b[0;32m     27\u001b[0m     \u001b[1;32mdef\u001b[0m \u001b[0mtuple_to_dict\u001b[0m\u001b[1;33m(\u001b[0m\u001b[0mrel_tuple\u001b[0m\u001b[1;33m)\u001b[0m\u001b[1;33m:\u001b[0m\u001b[1;33m\u001b[0m\u001b[1;33m\u001b[0m\u001b[0m\n\u001b[0;32m     28\u001b[0m         \u001b[1;32mif\u001b[0m \u001b[0mlen\u001b[0m\u001b[1;33m(\u001b[0m\u001b[0mrel_tuple\u001b[0m\u001b[1;33m)\u001b[0m \u001b[1;33m==\u001b[0m \u001b[1;36m3\u001b[0m\u001b[1;33m:\u001b[0m\u001b[1;33m\u001b[0m\u001b[1;33m\u001b[0m\u001b[0m\n\u001b[1;32m---> 29\u001b[1;33m             \u001b[1;32mreturn\u001b[0m \u001b[1;33m{\u001b[0m\u001b[1;34m'from'\u001b[0m\u001b[1;33m:\u001b[0m \u001b[0mrel_tuple\u001b[0m\u001b[1;33m[\u001b[0m\u001b[1;36m0\u001b[0m\u001b[1;33m]\u001b[0m\u001b[1;33m,\u001b[0m \u001b[1;34m'relation'\u001b[0m\u001b[1;33m:\u001b[0m \u001b[0mrel_tuple\u001b[0m\u001b[1;33m[\u001b[0m\u001b[1;36m1\u001b[0m\u001b[1;33m]\u001b[0m\u001b[1;33m,\u001b[0m \u001b[1;34m'target'\u001b[0m\u001b[1;33m:\u001b[0m \u001b[0mrel_tuple\u001b[0m\u001b[1;33m[\u001b[0m\u001b[1;36m2\u001b[0m\u001b[1;33m]\u001b[0m\u001b[1;33m}\u001b[0m\u001b[1;33m\u001b[0m\u001b[1;33m\u001b[0m\u001b[0m\n\u001b[0m\u001b[0;32m     30\u001b[0m         \u001b[1;32melse\u001b[0m\u001b[1;33m:\u001b[0m\u001b[1;33m\u001b[0m\u001b[1;33m\u001b[0m\u001b[0m\n\u001b[0;32m     31\u001b[0m             \u001b[1;32mreturn\u001b[0m \u001b[1;33m{\u001b[0m\u001b[1;34m'from'\u001b[0m\u001b[1;33m:\u001b[0m \u001b[1;32mNone\u001b[0m\u001b[1;33m,\u001b[0m \u001b[1;34m'relation'\u001b[0m\u001b[1;33m:\u001b[0m \u001b[1;32mNone\u001b[0m\u001b[1;33m,\u001b[0m \u001b[1;34m'target'\u001b[0m\u001b[1;33m:\u001b[0m \u001b[1;32mNone\u001b[0m\u001b[1;33m}\u001b[0m\u001b[1;33m\u001b[0m\u001b[1;33m\u001b[0m\u001b[0m\n",
      "\u001b[1;31mKeyError\u001b[0m: 0"
     ]
    }
   ],
   "source": [
    "overall_accuracy = evaluate_accuracy(df)"
   ]
  },
  {
   "cell_type": "code",
   "execution_count": 28,
   "metadata": {},
   "outputs": [
    {
     "data": {
      "text/plain": [
       "(0.11407919275118833, 0.9561586638830898)"
      ]
     },
     "execution_count": 28,
     "metadata": {},
     "output_type": "execute_result"
    }
   ],
   "source": [
    "overall_accuracy"
   ]
  },
  {
   "cell_type": "code",
   "execution_count": 63,
   "metadata": {},
   "outputs": [
    {
     "name": "stdout",
     "output_type": "stream",
     "text": [
      "Values of column1 and column2 on the first row:\n",
      "actual                                                                                                                              {\"locations\": [{\"name\": \"Kaupanger\", \"type\": \"Location\", \"entity\": \"Land\"}, {\"name\": \"Sogndal\", \"type\": \"Location\", \"entity\": \"Land\"}, {\"name\": \"Norge\", \"type\": \"Location\", \"entity\": \"Land\"}, {\"name\": \"Kristiansand\", \"type\": \"Location\", \"entity\": \"Land\"}, {\"name\": \"Voss\", \"type\": \"Location\", \"entity\": \"Land\"}, {\"name\": \"Sogndal\", \"type\": \"Location\", \"entity\": \"Land\"}, {\"name\": \"Førde\", \"type\": \"Location\", \"entity\": \"Land\"}, {\"name\": \"Oslo\", \"type\": \"Location\", \"entity\": \"Land\"}, {\"name\": \"Bergen\", \"type\": \"Location\", \"entity\": \"Land\"}], \"relationships\": [{\"from\": \"Norge\", \"relation\": \"contains\", \"target\": \"Sogndal\"}]}\n",
      "predictedgpt3    {\"locations\": [{\"name\": \"Kaupanger\", \"type\": \"Location\"}, {\"name\": \"Sogndal\", \"type\": \"Location\"}, {\"name\": \"Voss\", \"type\": \"Location\"}, {\"name\": \"Førde\", \"type\": \"Location\"}, {\"name\": \"Kristiansand\", \"type\": \"Location\"}, {\"name\": \"Oslo\", \"type\": \"Location\"}, {\"name\": \"Bergen\", \"type\": \"Location\"}, {\"name\": \"HVL\", \"type\": \"Location\"}], \"relationships\": [{\"from\": \"Kaupanger\", \"relation\": \"isNextTo\", \"target\": \"Sogndal\"}, {\"from\": \"Voss\", \"relation\": \"isNextTo\", \"target\": \"Sogndal\"}, {\"from\": \"Sogndal\", \"relation\": \"isIn\", \"target\": \"Norge\"}, {\"from\": \"Kristiansand\", \"relation\": \"isNextTo\", \"target\": \"Kaupanger\"}, {\"from\": \"Førde\", \"relation\": \"isNextTo\", \"target\": \"Sogndal\"}, {\"from\": \"HVL\", \"relation\": \"isIn\", \"target\": \"Norge\"}]}\n",
      "Name: 20, dtype: object\n"
     ]
    }
   ],
   "source": [
    "pd.set_option('display.max_colwidth', None)\n",
    "first_row_values = df.iloc[20][['actual', 'predictedgpt3']]\n",
    "\n",
    "# Print out the values\n",
    "print(\"Values of column1 and column2 on the first row:\")\n",
    "print(first_row_values)"
   ]
  },
  {
   "cell_type": "code",
   "execution_count": 11,
   "metadata": {},
   "outputs": [],
   "source": [
    "def is_float(value):\n",
    "    try:\n",
    "        float(value)\n",
    "        return True\n",
    "    except ValueError:\n",
    "        return False"
   ]
  },
  {
   "cell_type": "code",
   "execution_count": 17,
   "metadata": {},
   "outputs": [],
   "source": [
    "def extract_float_values(obj):\n",
    "    float_values = []\n",
    "    if isinstance(obj, dict):\n",
    "        for key, value in obj.items():\n",
    "            if isinstance(value, (int, float)):\n",
    "                float_values.append(value)\n",
    "            elif isinstance(value, (list, dict)):\n",
    "                float_values.extend(extract_float_values(value))\n",
    "    elif isinstance(obj, list):\n",
    "        for item in obj:\n",
    "            float_values.extend(extract_float_values(item))\n",
    "    return float_values"
   ]
  },
  {
   "cell_type": "code",
   "execution_count": 18,
   "metadata": {},
   "outputs": [],
   "source": [
    "def parse_and_extract(json_str):\n",
    "    try:\n",
    "        data = json.loads(json_str)\n",
    "        return extract_float_values(data)\n",
    "    except json.JSONDecodeError:\n",
    "        return []"
   ]
  },
  {
   "cell_type": "code",
   "execution_count": 14,
   "metadata": {},
   "outputs": [
    {
     "name": "stdout",
     "output_type": "stream",
     "text": [
      "Float values in 'actual' column:\n",
      "Row index: 13, Value: nan, Index position in column: 13\n",
      "\n",
      "Float values in 'predicted' column:\n",
      "\n"
     ]
    }
   ],
   "source": [
    "float_values = {'actual': {}, 'predicted': {}}\n",
    "for column in ['actual', 'predicted']:\n",
    "    index_position = 0\n",
    "    for index, value in df[column].items():\n",
    "        if is_float(value):\n",
    "            if column not in float_values:\n",
    "                float_values[column] = {}\n",
    "            float_values[column][index] = {'value': value, 'index_position': index_position}\n",
    "        index_position += 1\n",
    "\n",
    "# Print float values and their corresponding row index in a structured format\n",
    "for column, values in float_values.items():\n",
    "    print(f\"Float values in '{column}' column:\")\n",
    "    for index, value_info in values.items():\n",
    "        print(f\"Row index: {index}, Value: {value_info['value']}, Index position in column: {value_info['index_position']}\")\n",
    "    print()"
   ]
  },
  {
   "cell_type": "code",
   "execution_count": 43,
   "metadata": {},
   "outputs": [],
   "source": [
    "def print_rows_without_from_in_relationships(df, column):\n",
    "    for index, row in df.iterrows():\n",
    "        relationships = row[column]\n",
    "        if relationships.startswith('{') and relationships.endswith('}'):\n",
    "            try:\n",
    "                relationships_dict = json.loads(relationships)\n",
    "                relationships_list = relationships_dict.get(\"relationships\", [])\n",
    "                if isinstance(relationships_list, list) and not any(\"from\" in rel.get(\"from\", \"\") for rel in relationships_list):\n",
    "                    for i, rel in enumerate(relationships_list):\n",
    "                        if \"from\" not in rel.get(\"from\", \"\"):\n",
    "                            print(f\"Row {index}, {column}[{i}]: {rel}\")\n",
    "            except json.JSONDecodeError:\n",
    "                pass\n"
   ]
  },
  {
   "cell_type": "code",
   "execution_count": 46,
   "metadata": {},
   "outputs": [],
   "source": [
    "def fix_json_quotes(json_str):\n",
    "    return json_str.replace(\"'\", '\"')"
   ]
  },
  {
   "cell_type": "code",
   "execution_count": 47,
   "metadata": {},
   "outputs": [],
   "source": [
    "# Apply the helper function to the columns\n",
    "df['actual'] = df['actual'].apply(fix_json_quotes)"
   ]
  },
  {
   "cell_type": "code",
   "execution_count": 48,
   "metadata": {},
   "outputs": [
    {
     "name": "stdout",
     "output_type": "stream",
     "text": [
      "Rows without 'from' in the 'relationships' array (unless empty) in the 'actual' column:\n",
      "Row 1, actual[0]: {'from': 'Voss', 'relation': 'contains', 'target': 'Tråstølen'}\n",
      "Row 1, actual[1]: {'from': 'Voss', 'relation': 'isNearby', 'target': 'Lærdalen'}\n",
      "Row 1, actual[2]: {'from': 'Gudvangtunnelen', 'relation': 'isPassingThrough', 'target': 'Aurland'}\n",
      "Row 1, actual[3]: {'from': 'Sivletunnelen', 'relation': 'isPassingThrough', 'target': 'Voss'}\n",
      "Row 1, actual[4]: {'from': 'Stalheimtunnelen', 'relation': 'isPassingThrough', 'target': 'Voss'}\n",
      "Row 1, actual[5]: {'from': 'Voss', 'relation': 'contains', 'target': 'Nærøydalen'}\n",
      "Row 1, actual[6]: {'from': 'Stad', 'relation': 'contains', 'target': 'Nordfjord'}\n",
      "Row 1, actual[7]: {'from': 'Sauda', 'relation': 'isNearby', 'target': 'Bergen'}\n",
      "Row 2, actual[0]: {'from': 'Lærdalstunnelen', 'relation': 'isPassingThrough', 'target': 'SognOgFjordane'}\n",
      "Row 10, actual[0]: {'from': 'Norge', 'relation': 'contains', 'target': 'Bergen'}\n",
      "Row 10, actual[1]: {'from': 'Norge', 'relation': 'contains', 'target': 'Os'}\n",
      "Row 14, actual[0]: {'from': 'Frankrike', 'relation': 'contains', 'target': 'Paris'}\n",
      "Row 16, actual[0]: {'from': 'Aurland', 'relation': 'contains', 'target': 'Vetlebotnvatnet'}\n",
      "Row 23, actual[0]: {'from': 'Fyllingsdalen', 'relation': 'contains', 'target': 'Sandeidbrotet'}\n",
      "Row 24, actual[0]: {'from': 'Bergen', 'relation': 'contains', 'target': 'Haukeland'}\n",
      "Row 26, actual[0]: {'from': 'Fjærlandstunnelen', 'relation': 'isNearby', 'target': 'Holten'}\n",
      "Row 27, actual[0]: {'from': 'Bergen', 'relation': 'contains', 'target': 'Flesland'}\n",
      "Row 30, actual[0]: {'from': 'Bergen', 'relation': 'contains', 'target': 'Haukeland'}\n",
      "Row 32, actual[0]: {'from': 'Odda', 'relation': 'contains', 'target': 'Hjøllo'}\n",
      "Row 33, actual[0]: {'from': 'Bergen', 'relation': 'contains', 'target': 'Flesland'}\n",
      "Row 37, actual[0]: {'from': 'Odda', 'relation': 'contains', 'target': 'Almerket'}\n",
      "Row 39, actual[0]: {'from': 'Lærdal', 'relation': 'contains', 'target': 'Håbakken'}\n",
      "Row 42, actual[0]: {'from': 'Sunnhordaland', 'relation': 'contains', 'target': 'Halhjem'}\n",
      "Row 42, actual[1]: {'from': 'Sunnhordaland', 'relation': 'contains', 'target': 'Sandvikvåg'}\n",
      "Row 42, actual[2]: {'from': 'Italia', 'relation': 'contains', 'target': 'Sardinia'}\n",
      "Row 42, actual[3]: {'from': 'Gudvangen', 'relation': 'contains', 'target': 'Nærøyfjorden'}\n",
      "Row 42, actual[4]: {'from': 'Kaupanger', 'relation': 'contains', 'target': 'Nærøyfjorden'}\n",
      "Row 44, actual[0]: {'from': 'Odda', 'relation': 'contains', 'target': 'Eitrheim'}\n",
      "Row 47, actual[0]: {'from': 'Aurland', 'relation': 'isNearby', 'target': 'Hol'}\n",
      "Row 48, actual[0]: {'from': 'Holme', 'relation': 'isNearby', 'target': 'Frekkhaug'}\n",
      "Row 51, actual[0]: {'from': 'Ullensvang', 'relation': 'contains', 'target': 'Torsnes'}\n",
      "Row 51, actual[1]: {'from': 'Torsnes', 'relation': 'contains', 'target': 'Plommevika'}\n",
      "Row 54, actual[0]: {'from': 'Bergen', 'relation': 'contains', 'target': 'Solheimsviken'}\n",
      "Row 55, actual[0]: {'from': 'Bergen', 'relation': 'contains', 'target': 'Laksevåg'}\n",
      "Row 60, actual[0]: {'from': 'Storeklubben', 'relation': 'isNearby', 'target': 'Steinrusten'}\n",
      "Row 61, actual[0]: {'from': 'Seljestadtunnelen', 'relation': 'isPassingThrough', 'target': 'Seljestad'}\n",
      "Row 62, actual[0]: {'from': 'Bergen', 'relation': 'contains', 'target': 'Åsane'}\n",
      "Row 63, actual[0]: {'from': 'Bergen', 'relation': 'contains', 'target': 'Sandviken'}\n",
      "Row 63, actual[1]: {'from': 'Bergen', 'relation': 'contains', 'target': 'Haukeland'}\n",
      "Row 66, actual[0]: {'from': 'Vik', 'relation': 'contains', 'target': 'Ramneberg'}\n",
      "Row 66, actual[1]: {'from': 'Fresvik', 'relation': 'isNearby', 'target': 'Ramneberg'}\n",
      "Row 66, actual[2]: {'from': 'Lingesetfjellet', 'relation': 'overlooks', 'target': 'Aurland'}\n",
      "Row 67, actual[0]: {'from': 'Svanøy', 'relation': 'contains', 'target': 'Sandkvia'}\n",
      "Row 67, actual[1]: {'from': 'Atlanterhavet', 'relation': 'contains', 'target': 'Svanøy'}\n",
      "Row 67, actual[2]: {'from': 'Atlanterhavet', 'relation': 'isBordering', 'target': 'Portugal'}\n",
      "Row 69, actual[0]: {'from': 'Sogn', 'relation': 'contains', 'target': 'Fodnes'}\n",
      "Row 69, actual[1]: {'from': 'Fodnes', 'relation': 'isNearby', 'target': 'Årdal'}\n",
      "Row 69, actual[2]: {'from': 'Årdal', 'relation': 'isNearby', 'target': 'Kvernagrovi'}\n",
      "Row 71, actual[0]: {'from': 'Norge', 'relation': 'contains', 'target': 'Knarvik'}\n",
      "Row 73, actual[0]: {'from': 'Bergen', 'relation': 'contains', 'target': 'Evja'}\n",
      "Row 75, actual[0]: {'from': 'Bergen', 'relation': 'contains', 'target': 'Paradis'}\n",
      "Row 76, actual[0]: {'from': 'Florø', 'relation': 'contains', 'target': 'Brandsøyåsen'}\n",
      "Row 82, actual[0]: {'from': 'Fana', 'relation': 'contains', 'target': 'Ulsmågveien'}\n",
      "Row 86, actual[0]: {'from': 'Nekkøy', 'relation': 'isNearby', 'target': 'Reksta'}\n",
      "Row 88, actual[0]: {'from': 'Vik', 'relation': 'contains', 'target': 'Feios'}\n",
      "Row 90, actual[0]: {'from': 'Åsane', 'relation': 'contains', 'target': 'Spondalen'}\n",
      "Row 91, actual[0]: {'from': 'Mørkedalen', 'relation': 'contains', 'target': 'Hemsedalsfjellet'}\n",
      "Row 91, actual[1]: {'from': 'Sogn', 'relation': 'contains', 'target': 'Mørkedalen'}\n",
      "Row 96, actual[0]: {'from': 'Nederland', 'relation': 'contains', 'target': 'Rotterdam'}\n",
      "Row 99, actual[0]: {'from': 'Bergen', 'relation': 'contains', 'target': 'Nygårdsbroen'}\n",
      "Row 101, actual[0]: {'from': 'Norge', 'relation': 'contains', 'target': 'SognOgFjordane'}\n",
      "Row 101, actual[1]: {'from': 'Norge', 'relation': 'contains', 'target': 'Oslo'}\n",
      "Row 102, actual[0]: {'from': 'Bergen', 'relation': 'contains', 'target': 'Torgallmenningen'}\n",
      "Row 105, actual[0]: {'from': 'Bjorøytunnelen', 'relation': 'isPassingThrough', 'target': 'Bjorøy'}\n",
      "Row 105, actual[1]: {'from': 'Øygarden', 'relation': 'contains', 'target': 'Bjorøy'}\n",
      "Row 105, actual[2]: {'from': 'Bergen', 'relation': 'contains', 'target': 'Håkonshella'}\n",
      "Row 105, actual[3]: {'from': 'Vatlestraumen', 'relation': 'isNearby', 'target': 'Håkonshella'}\n",
      "Row 105, actual[4]: {'from': 'Vatlestraumen', 'relation': 'isNearby', 'target': 'Bjorøy'}\n",
      "Row 106, actual[0]: {'from': 'SognOgFjordane', 'relation': 'contains', 'target': 'Førdefjorden'}\n",
      "Row 106, actual[1]: {'from': 'Engebøfjellet', 'relation': 'overlooks', 'target': 'SognOgFjordane'}\n",
      "Row 106, actual[2]: {'from': 'SognOgFjordane', 'relation': 'contains', 'target': 'Redalsvika'}\n",
      "Row 106, actual[3]: {'from': 'SognOgFjordane', 'relation': 'contains', 'target': 'Sunnfjord'}\n",
      "Row 106, actual[4]: {'from': 'Vestland', 'relation': 'contains', 'target': 'SognOgFjordane'}\n",
      "Row 107, actual[0]: {'from': 'Husnes', 'relation': 'contains', 'target': 'Oppsangervegen'}\n",
      "Row 111, actual[0]: {'from': 'Bremanger', 'relation': 'contains', 'target': 'Kalvåg'}\n",
      "Row 112, actual[0]: {'from': 'Ytrebygda', 'relation': 'contains', 'target': 'Skagevegen'}\n",
      "Row 114, actual[0]: {'from': 'Norge', 'relation': 'contains', 'target': 'Bergen'}\n",
      "Row 119, actual[0]: {'from': 'Stryn', 'relation': 'contains', 'target': 'Loen'}\n",
      "Row 120, actual[0]: {'from': 'Årdal', 'relation': 'contains', 'target': 'Årdøla'}\n",
      "Row 120, actual[1]: {'from': 'Årdal', 'relation': 'contains', 'target': 'Årdalsvatnet'}\n",
      "Row 121, actual[0]: {'from': 'Bergen', 'relation': 'contains', 'target': 'Midtun'}\n",
      "Row 121, actual[1]: {'from': 'Odda', 'relation': 'contains', 'target': 'Sørfjorden'}\n",
      "Row 122, actual[0]: {'from': 'Gaupne', 'relation': 'isNearby', 'target': 'Josedalen'}\n",
      "Row 125, actual[0]: {'from': 'Samnanger', 'relation': 'contains', 'target': 'samnangervegen'}\n",
      "Row 126, actual[0]: {'from': 'Fantoft', 'relation': 'isNearby', 'target': 'Haukeland'}\n",
      "Row 128, actual[0]: {'from': 'Bergen', 'relation': 'contains', 'target': 'Smelgangen'}\n",
      "Row 128, actual[1]: {'from': 'Bergen', 'relation': 'contains', 'target': 'Hollendergaten'}\n",
      "Row 129, actual[0]: {'from': 'Borgrundstunnelen', 'relation': 'isPassingThrough', 'target': 'Lærdal'}\n",
      "Row 129, actual[1]: {'from': 'Lærdal', 'relation': 'contains', 'target': 'Steinklepp'}\n",
      "Row 129, actual[2]: {'from': 'Borgrundstunnelen', 'relation': 'isNearby', 'target': 'Steinklepp'}\n",
      "Row 135, actual[0]: {'from': 'Gulen', 'relation': 'contains', 'target': 'Ånneland'}\n",
      "Row 136, actual[0]: {'from': 'Åse', 'relation': 'contains', 'target': 'Lindåsvegen'}\n",
      "Row 140, actual[0]: {'from': 'Hellebøstranda', 'relation': 'isNearby', 'target': 'Lavik'}\n",
      "Row 140, actual[1]: {'from': 'Høyanger', 'relation': 'contains', 'target': 'Lavik'}\n",
      "Row 142, actual[0]: {'from': 'Bergen', 'relation': 'contains', 'target': 'MichaelKrohnGate'}\n"
     ]
    }
   ],
   "source": [
    "print(\"Rows without 'from' in the 'relationships' array (unless empty) in the 'actual' column:\")\n",
    "print_rows_without_from_in_relationships(df, 'actual')"
   ]
  }
 ],
 "metadata": {
  "kernelspec": {
   "display_name": "Python 3 (ipykernel)",
   "language": "python",
   "name": "python3"
  },
  "language_info": {
   "codemirror_mode": {
    "name": "ipython",
    "version": 3
   },
   "file_extension": ".py",
   "mimetype": "text/x-python",
   "name": "python",
   "nbconvert_exporter": "python",
   "pygments_lexer": "ipython3",
   "version": "3.9.13"
  }
 },
 "nbformat": 4,
 "nbformat_minor": 4
}
